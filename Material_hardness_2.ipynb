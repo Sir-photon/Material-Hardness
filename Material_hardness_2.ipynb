{
 "cells": [
  {
   "cell_type": "code",
   "execution_count": 1,
   "id": "44084157",
   "metadata": {},
   "outputs": [],
   "source": [
    "import pandas as pd\n",
    "import numpy as np\n",
    "import matplotlib.pyplot as plt\n",
    "import seaborn as sns\n",
    "%matplotlib inline "
   ]
  },
  {
   "cell_type": "code",
   "execution_count": 2,
   "id": "3e320e2a",
   "metadata": {},
   "outputs": [],
   "source": [
    "# import dataset\n",
    "tr=pd.read_csv(r'C:\\Users\\PHOTON\\Desktop\\SIR PHOTON\\KAGGLE\\New folder\\train.csv')\n",
    "\n",
    "# Import test dataset\n",
    "tt=pd.read_csv(r'C:\\Users\\PHOTON\\Desktop\\SIR PHOTON\\KAGGLE\\New folder\\test.csv')"
   ]
  },
  {
   "cell_type": "code",
   "execution_count": 3,
   "id": "8afddb49",
   "metadata": {},
   "outputs": [
    {
     "data": {
      "text/html": [
       "<div>\n",
       "<style scoped>\n",
       "    .dataframe tbody tr th:only-of-type {\n",
       "        vertical-align: middle;\n",
       "    }\n",
       "\n",
       "    .dataframe tbody tr th {\n",
       "        vertical-align: top;\n",
       "    }\n",
       "\n",
       "    .dataframe thead th {\n",
       "        text-align: right;\n",
       "    }\n",
       "</style>\n",
       "<table border=\"1\" class=\"dataframe\">\n",
       "  <thead>\n",
       "    <tr style=\"text-align: right;\">\n",
       "      <th></th>\n",
       "      <th>id</th>\n",
       "      <th>allelectrons_Total</th>\n",
       "      <th>density_Total</th>\n",
       "      <th>allelectrons_Average</th>\n",
       "      <th>val_e_Average</th>\n",
       "      <th>atomicweight_Average</th>\n",
       "      <th>ionenergy_Average</th>\n",
       "      <th>el_neg_chi_Average</th>\n",
       "      <th>R_vdw_element_Average</th>\n",
       "      <th>R_cov_element_Average</th>\n",
       "      <th>zaratio_Average</th>\n",
       "      <th>density_Average</th>\n",
       "      <th>Hardness</th>\n",
       "    </tr>\n",
       "  </thead>\n",
       "  <tbody>\n",
       "    <tr>\n",
       "      <th>0</th>\n",
       "      <td>0</td>\n",
       "      <td>100.0</td>\n",
       "      <td>0.841611</td>\n",
       "      <td>10.0</td>\n",
       "      <td>4.8</td>\n",
       "      <td>20.612526</td>\n",
       "      <td>11.08810</td>\n",
       "      <td>2.766</td>\n",
       "      <td>1.732</td>\n",
       "      <td>0.860</td>\n",
       "      <td>0.496070</td>\n",
       "      <td>0.91457</td>\n",
       "      <td>6.0</td>\n",
       "    </tr>\n",
       "    <tr>\n",
       "      <th>1</th>\n",
       "      <td>1</td>\n",
       "      <td>100.0</td>\n",
       "      <td>7.558488</td>\n",
       "      <td>10.0</td>\n",
       "      <td>4.8</td>\n",
       "      <td>20.298893</td>\n",
       "      <td>12.04083</td>\n",
       "      <td>2.755</td>\n",
       "      <td>1.631</td>\n",
       "      <td>0.910</td>\n",
       "      <td>0.492719</td>\n",
       "      <td>0.71760</td>\n",
       "      <td>6.5</td>\n",
       "    </tr>\n",
       "    <tr>\n",
       "      <th>2</th>\n",
       "      <td>2</td>\n",
       "      <td>76.0</td>\n",
       "      <td>8.885992</td>\n",
       "      <td>15.6</td>\n",
       "      <td>5.6</td>\n",
       "      <td>33.739258</td>\n",
       "      <td>12.08630</td>\n",
       "      <td>2.828</td>\n",
       "      <td>1.788</td>\n",
       "      <td>0.864</td>\n",
       "      <td>0.481478</td>\n",
       "      <td>1.50633</td>\n",
       "      <td>2.5</td>\n",
       "    </tr>\n",
       "    <tr>\n",
       "      <th>3</th>\n",
       "      <td>3</td>\n",
       "      <td>100.0</td>\n",
       "      <td>8.795296</td>\n",
       "      <td>10.0</td>\n",
       "      <td>4.8</td>\n",
       "      <td>20.213349</td>\n",
       "      <td>10.94850</td>\n",
       "      <td>2.648</td>\n",
       "      <td>1.626</td>\n",
       "      <td>0.936</td>\n",
       "      <td>0.489272</td>\n",
       "      <td>0.78937</td>\n",
       "      <td>6.0</td>\n",
       "    </tr>\n",
       "    <tr>\n",
       "      <th>4</th>\n",
       "      <td>4</td>\n",
       "      <td>116.0</td>\n",
       "      <td>9.577996</td>\n",
       "      <td>11.6</td>\n",
       "      <td>4.8</td>\n",
       "      <td>24.988133</td>\n",
       "      <td>11.82448</td>\n",
       "      <td>2.766</td>\n",
       "      <td>1.682</td>\n",
       "      <td>0.896</td>\n",
       "      <td>0.492736</td>\n",
       "      <td>1.86481</td>\n",
       "      <td>6.0</td>\n",
       "    </tr>\n",
       "  </tbody>\n",
       "</table>\n",
       "</div>"
      ],
      "text/plain": [
       "   id  allelectrons_Total  density_Total  allelectrons_Average  val_e_Average  \\\n",
       "0   0               100.0       0.841611                  10.0            4.8   \n",
       "1   1               100.0       7.558488                  10.0            4.8   \n",
       "2   2                76.0       8.885992                  15.6            5.6   \n",
       "3   3               100.0       8.795296                  10.0            4.8   \n",
       "4   4               116.0       9.577996                  11.6            4.8   \n",
       "\n",
       "   atomicweight_Average  ionenergy_Average  el_neg_chi_Average  \\\n",
       "0             20.612526           11.08810               2.766   \n",
       "1             20.298893           12.04083               2.755   \n",
       "2             33.739258           12.08630               2.828   \n",
       "3             20.213349           10.94850               2.648   \n",
       "4             24.988133           11.82448               2.766   \n",
       "\n",
       "   R_vdw_element_Average  R_cov_element_Average  zaratio_Average  \\\n",
       "0                  1.732                  0.860         0.496070   \n",
       "1                  1.631                  0.910         0.492719   \n",
       "2                  1.788                  0.864         0.481478   \n",
       "3                  1.626                  0.936         0.489272   \n",
       "4                  1.682                  0.896         0.492736   \n",
       "\n",
       "   density_Average  Hardness  \n",
       "0          0.91457       6.0  \n",
       "1          0.71760       6.5  \n",
       "2          1.50633       2.5  \n",
       "3          0.78937       6.0  \n",
       "4          1.86481       6.0  "
      ]
     },
     "execution_count": 3,
     "metadata": {},
     "output_type": "execute_result"
    }
   ],
   "source": [
    "# Explore training dataset\n",
    "tr.head()"
   ]
  },
  {
   "cell_type": "code",
   "execution_count": 4,
   "id": "63d6964e",
   "metadata": {},
   "outputs": [
    {
     "data": {
      "text/plain": [
       "(10407, 13)"
      ]
     },
     "execution_count": 4,
     "metadata": {},
     "output_type": "execute_result"
    }
   ],
   "source": [
    "tr.shape"
   ]
  },
  {
   "cell_type": "code",
   "execution_count": 5,
   "id": "67bb37da",
   "metadata": {},
   "outputs": [
    {
     "data": {
      "text/plain": [
       "135291"
      ]
     },
     "execution_count": 5,
     "metadata": {},
     "output_type": "execute_result"
    }
   ],
   "source": [
    "tr.size"
   ]
  },
  {
   "cell_type": "code",
   "execution_count": 6,
   "id": "746975ec",
   "metadata": {},
   "outputs": [
    {
     "name": "stdout",
     "output_type": "stream",
     "text": [
      "<class 'pandas.core.frame.DataFrame'>\n",
      "RangeIndex: 10407 entries, 0 to 10406\n",
      "Data columns (total 13 columns):\n",
      " #   Column                 Non-Null Count  Dtype  \n",
      "---  ------                 --------------  -----  \n",
      " 0   id                     10407 non-null  int64  \n",
      " 1   allelectrons_Total     10407 non-null  float64\n",
      " 2   density_Total          10407 non-null  float64\n",
      " 3   allelectrons_Average   10407 non-null  float64\n",
      " 4   val_e_Average          10407 non-null  float64\n",
      " 5   atomicweight_Average   10407 non-null  float64\n",
      " 6   ionenergy_Average      10407 non-null  float64\n",
      " 7   el_neg_chi_Average     10407 non-null  float64\n",
      " 8   R_vdw_element_Average  10407 non-null  float64\n",
      " 9   R_cov_element_Average  10407 non-null  float64\n",
      " 10  zaratio_Average        10407 non-null  float64\n",
      " 11  density_Average        10407 non-null  float64\n",
      " 12  Hardness               10407 non-null  float64\n",
      "dtypes: float64(12), int64(1)\n",
      "memory usage: 1.0 MB\n"
     ]
    }
   ],
   "source": [
    "tr.info()"
   ]
  },
  {
   "cell_type": "code",
   "execution_count": 7,
   "id": "ddc3a75d",
   "metadata": {},
   "outputs": [
    {
     "data": {
      "text/html": [
       "<div>\n",
       "<style scoped>\n",
       "    .dataframe tbody tr th:only-of-type {\n",
       "        vertical-align: middle;\n",
       "    }\n",
       "\n",
       "    .dataframe tbody tr th {\n",
       "        vertical-align: top;\n",
       "    }\n",
       "\n",
       "    .dataframe thead th {\n",
       "        text-align: right;\n",
       "    }\n",
       "</style>\n",
       "<table border=\"1\" class=\"dataframe\">\n",
       "  <thead>\n",
       "    <tr style=\"text-align: right;\">\n",
       "      <th></th>\n",
       "      <th>id</th>\n",
       "      <th>allelectrons_Total</th>\n",
       "      <th>density_Total</th>\n",
       "      <th>allelectrons_Average</th>\n",
       "      <th>val_e_Average</th>\n",
       "      <th>atomicweight_Average</th>\n",
       "      <th>ionenergy_Average</th>\n",
       "      <th>el_neg_chi_Average</th>\n",
       "      <th>R_vdw_element_Average</th>\n",
       "      <th>R_cov_element_Average</th>\n",
       "      <th>zaratio_Average</th>\n",
       "      <th>density_Average</th>\n",
       "      <th>Hardness</th>\n",
       "    </tr>\n",
       "  </thead>\n",
       "  <tbody>\n",
       "    <tr>\n",
       "      <th>count</th>\n",
       "      <td>10407.00000</td>\n",
       "      <td>10407.000000</td>\n",
       "      <td>10407.000000</td>\n",
       "      <td>10407.000000</td>\n",
       "      <td>10407.000000</td>\n",
       "      <td>10407.000000</td>\n",
       "      <td>10407.000000</td>\n",
       "      <td>10407.000000</td>\n",
       "      <td>10407.000000</td>\n",
       "      <td>10407.000000</td>\n",
       "      <td>10407.000000</td>\n",
       "      <td>10407.000000</td>\n",
       "      <td>10407.000000</td>\n",
       "    </tr>\n",
       "    <tr>\n",
       "      <th>mean</th>\n",
       "      <td>5203.00000</td>\n",
       "      <td>128.053516</td>\n",
       "      <td>14.491342</td>\n",
       "      <td>17.033222</td>\n",
       "      <td>4.546789</td>\n",
       "      <td>37.507703</td>\n",
       "      <td>10.938308</td>\n",
       "      <td>2.607662</td>\n",
       "      <td>1.731330</td>\n",
       "      <td>0.944132</td>\n",
       "      <td>0.493349</td>\n",
       "      <td>2.132984</td>\n",
       "      <td>4.647126</td>\n",
       "    </tr>\n",
       "    <tr>\n",
       "      <th>std</th>\n",
       "      <td>3004.38646</td>\n",
       "      <td>224.123776</td>\n",
       "      <td>15.972877</td>\n",
       "      <td>10.468734</td>\n",
       "      <td>0.690864</td>\n",
       "      <td>26.012313</td>\n",
       "      <td>1.408276</td>\n",
       "      <td>0.334906</td>\n",
       "      <td>0.192481</td>\n",
       "      <td>0.180017</td>\n",
       "      <td>0.063080</td>\n",
       "      <td>1.936656</td>\n",
       "      <td>1.680525</td>\n",
       "    </tr>\n",
       "    <tr>\n",
       "      <th>min</th>\n",
       "      <td>0.00000</td>\n",
       "      <td>0.000000</td>\n",
       "      <td>0.000000</td>\n",
       "      <td>0.000000</td>\n",
       "      <td>0.000000</td>\n",
       "      <td>0.000000</td>\n",
       "      <td>0.000000</td>\n",
       "      <td>0.000000</td>\n",
       "      <td>0.000000</td>\n",
       "      <td>0.000000</td>\n",
       "      <td>0.000000</td>\n",
       "      <td>0.000000</td>\n",
       "      <td>1.000000</td>\n",
       "    </tr>\n",
       "    <tr>\n",
       "      <th>25%</th>\n",
       "      <td>2601.50000</td>\n",
       "      <td>68.000000</td>\n",
       "      <td>7.558488</td>\n",
       "      <td>10.000000</td>\n",
       "      <td>4.000000</td>\n",
       "      <td>20.298893</td>\n",
       "      <td>10.590660</td>\n",
       "      <td>2.530000</td>\n",
       "      <td>1.672500</td>\n",
       "      <td>0.864000</td>\n",
       "      <td>0.476196</td>\n",
       "      <td>0.814800</td>\n",
       "      <td>3.000000</td>\n",
       "    </tr>\n",
       "    <tr>\n",
       "      <th>50%</th>\n",
       "      <td>5203.00000</td>\n",
       "      <td>100.000000</td>\n",
       "      <td>10.650000</td>\n",
       "      <td>12.600000</td>\n",
       "      <td>4.714286</td>\n",
       "      <td>26.203827</td>\n",
       "      <td>11.202760</td>\n",
       "      <td>2.706000</td>\n",
       "      <td>1.732727</td>\n",
       "      <td>0.915556</td>\n",
       "      <td>0.488550</td>\n",
       "      <td>1.351550</td>\n",
       "      <td>5.500000</td>\n",
       "    </tr>\n",
       "    <tr>\n",
       "      <th>75%</th>\n",
       "      <td>7804.50000</td>\n",
       "      <td>131.000000</td>\n",
       "      <td>16.676996</td>\n",
       "      <td>22.000000</td>\n",
       "      <td>4.800000</td>\n",
       "      <td>48.719500</td>\n",
       "      <td>11.670725</td>\n",
       "      <td>2.805000</td>\n",
       "      <td>1.800000</td>\n",
       "      <td>0.981667</td>\n",
       "      <td>0.496070</td>\n",
       "      <td>2.741550</td>\n",
       "      <td>6.000000</td>\n",
       "    </tr>\n",
       "    <tr>\n",
       "      <th>max</th>\n",
       "      <td>10406.00000</td>\n",
       "      <td>15300.000000</td>\n",
       "      <td>643.093804</td>\n",
       "      <td>67.000000</td>\n",
       "      <td>6.000000</td>\n",
       "      <td>167.400000</td>\n",
       "      <td>15.245810</td>\n",
       "      <td>3.443000</td>\n",
       "      <td>2.250000</td>\n",
       "      <td>1.615840</td>\n",
       "      <td>0.825990</td>\n",
       "      <td>10.970000</td>\n",
       "      <td>10.000000</td>\n",
       "    </tr>\n",
       "  </tbody>\n",
       "</table>\n",
       "</div>"
      ],
      "text/plain": [
       "                id  allelectrons_Total  density_Total  allelectrons_Average  \\\n",
       "count  10407.00000        10407.000000   10407.000000          10407.000000   \n",
       "mean    5203.00000          128.053516      14.491342             17.033222   \n",
       "std     3004.38646          224.123776      15.972877             10.468734   \n",
       "min        0.00000            0.000000       0.000000              0.000000   \n",
       "25%     2601.50000           68.000000       7.558488             10.000000   \n",
       "50%     5203.00000          100.000000      10.650000             12.600000   \n",
       "75%     7804.50000          131.000000      16.676996             22.000000   \n",
       "max    10406.00000        15300.000000     643.093804             67.000000   \n",
       "\n",
       "       val_e_Average  atomicweight_Average  ionenergy_Average  \\\n",
       "count   10407.000000          10407.000000       10407.000000   \n",
       "mean        4.546789             37.507703          10.938308   \n",
       "std         0.690864             26.012313           1.408276   \n",
       "min         0.000000              0.000000           0.000000   \n",
       "25%         4.000000             20.298893          10.590660   \n",
       "50%         4.714286             26.203827          11.202760   \n",
       "75%         4.800000             48.719500          11.670725   \n",
       "max         6.000000            167.400000          15.245810   \n",
       "\n",
       "       el_neg_chi_Average  R_vdw_element_Average  R_cov_element_Average  \\\n",
       "count        10407.000000           10407.000000           10407.000000   \n",
       "mean             2.607662               1.731330               0.944132   \n",
       "std              0.334906               0.192481               0.180017   \n",
       "min              0.000000               0.000000               0.000000   \n",
       "25%              2.530000               1.672500               0.864000   \n",
       "50%              2.706000               1.732727               0.915556   \n",
       "75%              2.805000               1.800000               0.981667   \n",
       "max              3.443000               2.250000               1.615840   \n",
       "\n",
       "       zaratio_Average  density_Average      Hardness  \n",
       "count     10407.000000     10407.000000  10407.000000  \n",
       "mean          0.493349         2.132984      4.647126  \n",
       "std           0.063080         1.936656      1.680525  \n",
       "min           0.000000         0.000000      1.000000  \n",
       "25%           0.476196         0.814800      3.000000  \n",
       "50%           0.488550         1.351550      5.500000  \n",
       "75%           0.496070         2.741550      6.000000  \n",
       "max           0.825990        10.970000     10.000000  "
      ]
     },
     "execution_count": 7,
     "metadata": {},
     "output_type": "execute_result"
    }
   ],
   "source": [
    "tr.describe()"
   ]
  },
  {
   "cell_type": "code",
   "execution_count": 9,
   "id": "d9f8a2df",
   "metadata": {},
   "outputs": [
    {
     "data": {
      "text/html": [
       "<div>\n",
       "<style scoped>\n",
       "    .dataframe tbody tr th:only-of-type {\n",
       "        vertical-align: middle;\n",
       "    }\n",
       "\n",
       "    .dataframe tbody tr th {\n",
       "        vertical-align: top;\n",
       "    }\n",
       "\n",
       "    .dataframe thead th {\n",
       "        text-align: right;\n",
       "    }\n",
       "</style>\n",
       "<table border=\"1\" class=\"dataframe\">\n",
       "  <thead>\n",
       "    <tr style=\"text-align: right;\">\n",
       "      <th></th>\n",
       "      <th>id</th>\n",
       "      <th>allelectrons_Total</th>\n",
       "      <th>density_Total</th>\n",
       "      <th>allelectrons_Average</th>\n",
       "      <th>val_e_Average</th>\n",
       "      <th>atomicweight_Average</th>\n",
       "      <th>ionenergy_Average</th>\n",
       "      <th>el_neg_chi_Average</th>\n",
       "      <th>R_vdw_element_Average</th>\n",
       "      <th>R_cov_element_Average</th>\n",
       "      <th>zaratio_Average</th>\n",
       "      <th>density_Average</th>\n",
       "      <th>Hardness</th>\n",
       "    </tr>\n",
       "  </thead>\n",
       "  <tbody>\n",
       "    <tr>\n",
       "      <th>id</th>\n",
       "      <td>1.000000</td>\n",
       "      <td>-0.019038</td>\n",
       "      <td>-0.005849</td>\n",
       "      <td>0.001863</td>\n",
       "      <td>-0.003501</td>\n",
       "      <td>0.002035</td>\n",
       "      <td>-0.019492</td>\n",
       "      <td>-0.015554</td>\n",
       "      <td>-0.003115</td>\n",
       "      <td>0.003888</td>\n",
       "      <td>-0.013690</td>\n",
       "      <td>0.006337</td>\n",
       "      <td>-0.006989</td>\n",
       "    </tr>\n",
       "    <tr>\n",
       "      <th>allelectrons_Total</th>\n",
       "      <td>-0.019038</td>\n",
       "      <td>1.000000</td>\n",
       "      <td>0.616092</td>\n",
       "      <td>0.074725</td>\n",
       "      <td>0.071618</td>\n",
       "      <td>0.078489</td>\n",
       "      <td>0.034883</td>\n",
       "      <td>0.036897</td>\n",
       "      <td>0.038551</td>\n",
       "      <td>0.024420</td>\n",
       "      <td>0.031035</td>\n",
       "      <td>0.058067</td>\n",
       "      <td>-0.061687</td>\n",
       "    </tr>\n",
       "    <tr>\n",
       "      <th>density_Total</th>\n",
       "      <td>-0.005849</td>\n",
       "      <td>0.616092</td>\n",
       "      <td>1.000000</td>\n",
       "      <td>0.356399</td>\n",
       "      <td>0.083640</td>\n",
       "      <td>0.355614</td>\n",
       "      <td>-0.104870</td>\n",
       "      <td>-0.075535</td>\n",
       "      <td>0.202331</td>\n",
       "      <td>0.240787</td>\n",
       "      <td>-0.089792</td>\n",
       "      <td>0.336046</td>\n",
       "      <td>-0.161524</td>\n",
       "    </tr>\n",
       "    <tr>\n",
       "      <th>allelectrons_Average</th>\n",
       "      <td>0.001863</td>\n",
       "      <td>0.074725</td>\n",
       "      <td>0.356399</td>\n",
       "      <td>1.000000</td>\n",
       "      <td>0.004376</td>\n",
       "      <td>0.990660</td>\n",
       "      <td>-0.360046</td>\n",
       "      <td>-0.319413</td>\n",
       "      <td>0.550669</td>\n",
       "      <td>0.688680</td>\n",
       "      <td>-0.328973</td>\n",
       "      <td>0.803641</td>\n",
       "      <td>-0.400496</td>\n",
       "    </tr>\n",
       "    <tr>\n",
       "      <th>val_e_Average</th>\n",
       "      <td>-0.003501</td>\n",
       "      <td>0.071618</td>\n",
       "      <td>0.083640</td>\n",
       "      <td>0.004376</td>\n",
       "      <td>1.000000</td>\n",
       "      <td>0.001860</td>\n",
       "      <td>0.453901</td>\n",
       "      <td>0.550007</td>\n",
       "      <td>0.354538</td>\n",
       "      <td>0.189352</td>\n",
       "      <td>0.093854</td>\n",
       "      <td>-0.068899</td>\n",
       "      <td>0.161715</td>\n",
       "    </tr>\n",
       "    <tr>\n",
       "      <th>atomicweight_Average</th>\n",
       "      <td>0.002035</td>\n",
       "      <td>0.078489</td>\n",
       "      <td>0.355614</td>\n",
       "      <td>0.990660</td>\n",
       "      <td>0.001860</td>\n",
       "      <td>1.000000</td>\n",
       "      <td>-0.356640</td>\n",
       "      <td>-0.316053</td>\n",
       "      <td>0.529277</td>\n",
       "      <td>0.666165</td>\n",
       "      <td>-0.327459</td>\n",
       "      <td>0.796564</td>\n",
       "      <td>-0.402948</td>\n",
       "    </tr>\n",
       "    <tr>\n",
       "      <th>ionenergy_Average</th>\n",
       "      <td>-0.019492</td>\n",
       "      <td>0.034883</td>\n",
       "      <td>-0.104870</td>\n",
       "      <td>-0.360046</td>\n",
       "      <td>0.453901</td>\n",
       "      <td>-0.356640</td>\n",
       "      <td>1.000000</td>\n",
       "      <td>0.774050</td>\n",
       "      <td>0.078650</td>\n",
       "      <td>-0.235344</td>\n",
       "      <td>0.638616</td>\n",
       "      <td>-0.359735</td>\n",
       "      <td>0.203203</td>\n",
       "    </tr>\n",
       "    <tr>\n",
       "      <th>el_neg_chi_Average</th>\n",
       "      <td>-0.015554</td>\n",
       "      <td>0.036897</td>\n",
       "      <td>-0.075535</td>\n",
       "      <td>-0.319413</td>\n",
       "      <td>0.550007</td>\n",
       "      <td>-0.316053</td>\n",
       "      <td>0.774050</td>\n",
       "      <td>1.000000</td>\n",
       "      <td>0.121926</td>\n",
       "      <td>-0.174485</td>\n",
       "      <td>0.441195</td>\n",
       "      <td>-0.322099</td>\n",
       "      <td>0.290352</td>\n",
       "    </tr>\n",
       "    <tr>\n",
       "      <th>R_vdw_element_Average</th>\n",
       "      <td>-0.003115</td>\n",
       "      <td>0.038551</td>\n",
       "      <td>0.202331</td>\n",
       "      <td>0.550669</td>\n",
       "      <td>0.354538</td>\n",
       "      <td>0.529277</td>\n",
       "      <td>0.078650</td>\n",
       "      <td>0.121926</td>\n",
       "      <td>1.000000</td>\n",
       "      <td>0.811823</td>\n",
       "      <td>0.002984</td>\n",
       "      <td>0.439990</td>\n",
       "      <td>-0.061402</td>\n",
       "    </tr>\n",
       "    <tr>\n",
       "      <th>R_cov_element_Average</th>\n",
       "      <td>0.003888</td>\n",
       "      <td>0.024420</td>\n",
       "      <td>0.240787</td>\n",
       "      <td>0.688680</td>\n",
       "      <td>0.189352</td>\n",
       "      <td>0.666165</td>\n",
       "      <td>-0.235344</td>\n",
       "      <td>-0.174485</td>\n",
       "      <td>0.811823</td>\n",
       "      <td>1.000000</td>\n",
       "      <td>-0.221164</td>\n",
       "      <td>0.571741</td>\n",
       "      <td>-0.189111</td>\n",
       "    </tr>\n",
       "    <tr>\n",
       "      <th>zaratio_Average</th>\n",
       "      <td>-0.013690</td>\n",
       "      <td>0.031035</td>\n",
       "      <td>-0.089792</td>\n",
       "      <td>-0.328973</td>\n",
       "      <td>0.093854</td>\n",
       "      <td>-0.327459</td>\n",
       "      <td>0.638616</td>\n",
       "      <td>0.441195</td>\n",
       "      <td>0.002984</td>\n",
       "      <td>-0.221164</td>\n",
       "      <td>1.000000</td>\n",
       "      <td>-0.306644</td>\n",
       "      <td>0.055248</td>\n",
       "    </tr>\n",
       "    <tr>\n",
       "      <th>density_Average</th>\n",
       "      <td>0.006337</td>\n",
       "      <td>0.058067</td>\n",
       "      <td>0.336046</td>\n",
       "      <td>0.803641</td>\n",
       "      <td>-0.068899</td>\n",
       "      <td>0.796564</td>\n",
       "      <td>-0.359735</td>\n",
       "      <td>-0.322099</td>\n",
       "      <td>0.439990</td>\n",
       "      <td>0.571741</td>\n",
       "      <td>-0.306644</td>\n",
       "      <td>1.000000</td>\n",
       "      <td>-0.360780</td>\n",
       "    </tr>\n",
       "    <tr>\n",
       "      <th>Hardness</th>\n",
       "      <td>-0.006989</td>\n",
       "      <td>-0.061687</td>\n",
       "      <td>-0.161524</td>\n",
       "      <td>-0.400496</td>\n",
       "      <td>0.161715</td>\n",
       "      <td>-0.402948</td>\n",
       "      <td>0.203203</td>\n",
       "      <td>0.290352</td>\n",
       "      <td>-0.061402</td>\n",
       "      <td>-0.189111</td>\n",
       "      <td>0.055248</td>\n",
       "      <td>-0.360780</td>\n",
       "      <td>1.000000</td>\n",
       "    </tr>\n",
       "  </tbody>\n",
       "</table>\n",
       "</div>"
      ],
      "text/plain": [
       "                             id  allelectrons_Total  density_Total  \\\n",
       "id                     1.000000           -0.019038      -0.005849   \n",
       "allelectrons_Total    -0.019038            1.000000       0.616092   \n",
       "density_Total         -0.005849            0.616092       1.000000   \n",
       "allelectrons_Average   0.001863            0.074725       0.356399   \n",
       "val_e_Average         -0.003501            0.071618       0.083640   \n",
       "atomicweight_Average   0.002035            0.078489       0.355614   \n",
       "ionenergy_Average     -0.019492            0.034883      -0.104870   \n",
       "el_neg_chi_Average    -0.015554            0.036897      -0.075535   \n",
       "R_vdw_element_Average -0.003115            0.038551       0.202331   \n",
       "R_cov_element_Average  0.003888            0.024420       0.240787   \n",
       "zaratio_Average       -0.013690            0.031035      -0.089792   \n",
       "density_Average        0.006337            0.058067       0.336046   \n",
       "Hardness              -0.006989           -0.061687      -0.161524   \n",
       "\n",
       "                       allelectrons_Average  val_e_Average  \\\n",
       "id                                 0.001863      -0.003501   \n",
       "allelectrons_Total                 0.074725       0.071618   \n",
       "density_Total                      0.356399       0.083640   \n",
       "allelectrons_Average               1.000000       0.004376   \n",
       "val_e_Average                      0.004376       1.000000   \n",
       "atomicweight_Average               0.990660       0.001860   \n",
       "ionenergy_Average                 -0.360046       0.453901   \n",
       "el_neg_chi_Average                -0.319413       0.550007   \n",
       "R_vdw_element_Average              0.550669       0.354538   \n",
       "R_cov_element_Average              0.688680       0.189352   \n",
       "zaratio_Average                   -0.328973       0.093854   \n",
       "density_Average                    0.803641      -0.068899   \n",
       "Hardness                          -0.400496       0.161715   \n",
       "\n",
       "                       atomicweight_Average  ionenergy_Average  \\\n",
       "id                                 0.002035          -0.019492   \n",
       "allelectrons_Total                 0.078489           0.034883   \n",
       "density_Total                      0.355614          -0.104870   \n",
       "allelectrons_Average               0.990660          -0.360046   \n",
       "val_e_Average                      0.001860           0.453901   \n",
       "atomicweight_Average               1.000000          -0.356640   \n",
       "ionenergy_Average                 -0.356640           1.000000   \n",
       "el_neg_chi_Average                -0.316053           0.774050   \n",
       "R_vdw_element_Average              0.529277           0.078650   \n",
       "R_cov_element_Average              0.666165          -0.235344   \n",
       "zaratio_Average                   -0.327459           0.638616   \n",
       "density_Average                    0.796564          -0.359735   \n",
       "Hardness                          -0.402948           0.203203   \n",
       "\n",
       "                       el_neg_chi_Average  R_vdw_element_Average  \\\n",
       "id                              -0.015554              -0.003115   \n",
       "allelectrons_Total               0.036897               0.038551   \n",
       "density_Total                   -0.075535               0.202331   \n",
       "allelectrons_Average            -0.319413               0.550669   \n",
       "val_e_Average                    0.550007               0.354538   \n",
       "atomicweight_Average            -0.316053               0.529277   \n",
       "ionenergy_Average                0.774050               0.078650   \n",
       "el_neg_chi_Average               1.000000               0.121926   \n",
       "R_vdw_element_Average            0.121926               1.000000   \n",
       "R_cov_element_Average           -0.174485               0.811823   \n",
       "zaratio_Average                  0.441195               0.002984   \n",
       "density_Average                 -0.322099               0.439990   \n",
       "Hardness                         0.290352              -0.061402   \n",
       "\n",
       "                       R_cov_element_Average  zaratio_Average  \\\n",
       "id                                  0.003888        -0.013690   \n",
       "allelectrons_Total                  0.024420         0.031035   \n",
       "density_Total                       0.240787        -0.089792   \n",
       "allelectrons_Average                0.688680        -0.328973   \n",
       "val_e_Average                       0.189352         0.093854   \n",
       "atomicweight_Average                0.666165        -0.327459   \n",
       "ionenergy_Average                  -0.235344         0.638616   \n",
       "el_neg_chi_Average                 -0.174485         0.441195   \n",
       "R_vdw_element_Average               0.811823         0.002984   \n",
       "R_cov_element_Average               1.000000        -0.221164   \n",
       "zaratio_Average                    -0.221164         1.000000   \n",
       "density_Average                     0.571741        -0.306644   \n",
       "Hardness                           -0.189111         0.055248   \n",
       "\n",
       "                       density_Average  Hardness  \n",
       "id                            0.006337 -0.006989  \n",
       "allelectrons_Total            0.058067 -0.061687  \n",
       "density_Total                 0.336046 -0.161524  \n",
       "allelectrons_Average          0.803641 -0.400496  \n",
       "val_e_Average                -0.068899  0.161715  \n",
       "atomicweight_Average          0.796564 -0.402948  \n",
       "ionenergy_Average            -0.359735  0.203203  \n",
       "el_neg_chi_Average           -0.322099  0.290352  \n",
       "R_vdw_element_Average         0.439990 -0.061402  \n",
       "R_cov_element_Average         0.571741 -0.189111  \n",
       "zaratio_Average              -0.306644  0.055248  \n",
       "density_Average               1.000000 -0.360780  \n",
       "Hardness                     -0.360780  1.000000  "
      ]
     },
     "execution_count": 9,
     "metadata": {},
     "output_type": "execute_result"
    }
   ],
   "source": [
    "tr.corr()"
   ]
  },
  {
   "cell_type": "code",
   "execution_count": 10,
   "id": "104008da",
   "metadata": {},
   "outputs": [
    {
     "data": {
      "text/plain": [
       "id                       0\n",
       "allelectrons_Total       0\n",
       "density_Total            0\n",
       "allelectrons_Average     0\n",
       "val_e_Average            0\n",
       "atomicweight_Average     0\n",
       "ionenergy_Average        0\n",
       "el_neg_chi_Average       0\n",
       "R_vdw_element_Average    0\n",
       "R_cov_element_Average    0\n",
       "zaratio_Average          0\n",
       "density_Average          0\n",
       "Hardness                 0\n",
       "dtype: int64"
      ]
     },
     "execution_count": 10,
     "metadata": {},
     "output_type": "execute_result"
    }
   ],
   "source": [
    "tr.isna().sum()"
   ]
  },
  {
   "cell_type": "markdown",
   "id": "ef810557",
   "metadata": {},
   "source": [
    "### EDA"
   ]
  },
  {
   "cell_type": "code",
   "execution_count": 8,
   "id": "701f1e4e",
   "metadata": {},
   "outputs": [
    {
     "data": {
      "text/plain": [
       "<AxesSubplot:>"
      ]
     },
     "execution_count": 8,
     "metadata": {},
     "output_type": "execute_result"
    },
    {
     "data": {
      "image/png": "[encoded data removed]",
      "text/plain": [
       "<Figure size 432x288 with 2 Axes>"
      ]
     },
     "metadata": {
      "needs_background": "light"
     },
     "output_type": "display_data"
    }
   ],
   "source": [
    "sns.heatmap(tr.corr())"
   ]
  },
  {
   "cell_type": "code",
   "execution_count": 14,
   "id": "3f65c156",
   "metadata": {},
   "outputs": [
    {
     "data": {
      "text/plain": [
       "<AxesSubplot:xlabel='density_Total', ylabel='atomicweight_Average'>"
      ]
     },
     "execution_count": 14,
     "metadata": {},
     "output_type": "execute_result"
    },
    {
     "data": {
      "image/png": "[encoded data removed]",
      "text/plain": [
       "<Figure size 432x288 with 1 Axes>"
      ]
     },
     "metadata": {
      "needs_background": "light"
     },
     "output_type": "display_data"
    }
   ],
   "source": [
    "sns.regplot(x='density_Total', y='atomicweight_Average', data=tr)"
   ]
  },
  {
   "cell_type": "code",
   "execution_count": 15,
   "id": "c8301259",
   "metadata": {},
   "outputs": [
    {
     "data": {
      "text/plain": [
       "<AxesSubplot:xlabel='density_Average', ylabel='allelectrons_Average'>"
      ]
     },
     "execution_count": 15,
     "metadata": {},
     "output_type": "execute_result"
    },
    {
     "data": {
      "image/png": "[encoded data removed]",
      "text/plain": [
       "<Figure size 432x288 with 1 Axes>"
      ]
     },
     "metadata": {
      "needs_background": "light"
     },
     "output_type": "display_data"
    }
   ],
   "source": [
    "sns.regplot(x='density_Average', y='allelectrons_Average', data=tr)"
   ]
  },
  {
   "cell_type": "code",
   "execution_count": 17,
   "id": "0ff8338b",
   "metadata": {},
   "outputs": [
    {
     "data": {
      "text/plain": [
       "<seaborn.axisgrid.FacetGrid at 0x269b04ee820>"
      ]
     },
     "execution_count": 17,
     "metadata": {},
     "output_type": "execute_result"
    },
    {
     "data": {
      "image/png": "[encoded data removed]",
      "text/plain": [
       "<Figure size 360x360 with 1 Axes>"
      ]
     },
     "metadata": {
      "needs_background": "light"
     },
     "output_type": "display_data"
    }
   ],
   "source": [
    "sns.lmplot(x='density_Average', y='allelectrons_Average', data=tr)"
   ]
  },
  {
   "cell_type": "code",
   "execution_count": 22,
   "id": "1f4c5c8b",
   "metadata": {},
   "outputs": [
    {
     "data": {
      "text/plain": [
       "<AxesSubplot:xlabel='ionenergy_Average', ylabel='Hardness'>"
      ]
     },
     "execution_count": 22,
     "metadata": {},
     "output_type": "execute_result"
    },
    {
     "data": {
      "image/png": "[encoded data removed]",
      "text/plain": [
       "<Figure size 432x288 with 1 Axes>"
      ]
     },
     "metadata": {
      "needs_background": "light"
     },
     "output_type": "display_data"
    }
   ],
   "source": [
    "sns.regplot(x='ionenergy_Average', y='Hardness', data=tr, ci=100)"
   ]
  },
  {
   "cell_type": "code",
   "execution_count": 26,
   "id": "b930f7e3",
   "metadata": {},
   "outputs": [
    {
     "data": {
      "text/plain": [
       "(array([2.000e+00, 1.800e+01, 1.740e+02, 0.000e+00, 1.580e+02, 3.880e+02,\n",
       "        2.000e+00, 2.920e+02, 1.090e+03, 0.000e+00, 3.920e+02, 3.100e+02,\n",
       "        1.450e+02, 2.610e+02, 1.000e+00, 7.120e+02, 3.700e+02, 1.000e+00,\n",
       "        1.300e+02, 9.700e+01, 1.000e+00, 1.050e+02, 3.750e+02, 1.350e+02,\n",
       "        1.000e+00, 1.463e+03, 4.130e+02, 2.063e+03, 1.000e+01, 2.660e+02,\n",
       "        3.980e+02, 2.000e+00, 2.400e+02, 9.600e+01, 0.000e+00, 1.000e+01,\n",
       "        9.800e+01, 6.400e+01, 1.200e+01, 7.000e+00, 1.000e+00, 1.500e+01,\n",
       "        0.000e+00, 0.000e+00, 3.300e+01, 0.000e+00, 0.000e+00, 2.500e+01,\n",
       "        1.000e+00, 3.000e+01]),\n",
       " array([ 1.  ,  1.18,  1.36,  1.54,  1.72,  1.9 ,  2.08,  2.26,  2.44,\n",
       "         2.62,  2.8 ,  2.98,  3.16,  3.34,  3.52,  3.7 ,  3.88,  4.06,\n",
       "         4.24,  4.42,  4.6 ,  4.78,  4.96,  5.14,  5.32,  5.5 ,  5.68,\n",
       "         5.86,  6.04,  6.22,  6.4 ,  6.58,  6.76,  6.94,  7.12,  7.3 ,\n",
       "         7.48,  7.66,  7.84,  8.02,  8.2 ,  8.38,  8.56,  8.74,  8.92,\n",
       "         9.1 ,  9.28,  9.46,  9.64,  9.82, 10.  ]),\n",
       " <BarContainer object of 50 artists>)"
      ]
     },
     "execution_count": 26,
     "metadata": {},
     "output_type": "execute_result"
    },
    {
     "data": {
      "image/png": "[encoded data removed]",
      "text/plain": [
       "<Figure size 720x576 with 1 Axes>"
      ]
     },
     "metadata": {
      "needs_background": "light"
     },
     "output_type": "display_data"
    }
   ],
   "source": [
    "plt.figure(figsize=(10,8))\n",
    "plt.hist(x='Hardness', data=tr, bins=50)"
   ]
  },
  {
   "cell_type": "code",
   "execution_count": 44,
   "id": "cb38b8ef",
   "metadata": {},
   "outputs": [],
   "source": [
    "from sklearn.preprocessing import MinMaxScaler, StandardScaler\n",
    "from sklearn.model_selection import train_test_split, cross_val_score, KFold, StratifiedKFold, RandomizedSearchCV, GridSearchCV\n",
    "from xgboost import XGBRegressor\n",
    "from sklearn.linear_model import LinearRegression\n",
    "from sklearn.ensemble import RandomForestRegressor\n",
    "from sklearn.metrics import mean_squared_error, mean_absolute_error"
   ]
  },
  {
   "cell_type": "code",
   "execution_count": 45,
   "id": "364f5c1a",
   "metadata": {},
   "outputs": [],
   "source": [
    "# Feature and target values\n",
    "x_fet=tr.drop(['Hardness', 'id'], axis=1)\n",
    "y=tr['Hardness']"
   ]
  },
  {
   "cell_type": "code",
   "execution_count": 46,
   "id": "75dcab12",
   "metadata": {},
   "outputs": [],
   "source": [
    "# Train_test_splitting\n",
    "\n",
    "x_train,x_test, y_train, y_test=train_test_split(x_fet, y, random_state=11, test_size=0.3)"
   ]
  },
  {
   "cell_type": "code",
   "execution_count": 47,
   "id": "9efcb6ed",
   "metadata": {},
   "outputs": [],
   "source": [
    "xgb=XGBRegressor()\n",
    "lr=LinearRegression()\n",
    "rfr=RandomForestRegressor()"
   ]
  },
  {
   "cell_type": "code",
   "execution_count": 48,
   "id": "c82f20ab",
   "metadata": {},
   "outputs": [
    {
     "name": "stdout",
     "output_type": "stream",
     "text": [
      "[5.831762  5.8264203 3.0795813 ... 6.132444  2.4729285 4.930446 ]\n",
      "[5.46447263 5.41259073 3.85768693 ... 5.19063664 4.78248437 5.29275008]\n",
      "[5.972 5.542 3.621 ... 5.318 3.581 4.677]\n",
      "Average_error: [1.2980211249450286, 1.4930806622750386, 1.2461887798829305]\n"
     ]
    }
   ],
   "source": [
    "model=[xgb, lr, rfr]\n",
    "mean_error=[]\n",
    "for i in model:\n",
    "    i.fit(x_train, y_train)\n",
    "    \n",
    "    pred=i.predict(x_test)\n",
    "    print(pred)\n",
    "    mean_error.append(np.mean(np.sqrt(mean_squared_error(y_test, pred))))\n",
    "    \n",
    "    \n",
    "    \n",
    "                       \n",
    "\n",
    "print(f'Average_error: {mean_error}')                       \n",
    "    "
   ]
  },
  {
   "cell_type": "markdown",
   "id": "6d24524e",
   "metadata": {},
   "source": [
    "In this simple train test model that featured xgboost, linearregression and randomforest respectively, it can be deduced that randomforest regressor outperformed the rest two statistical algorithm. Futher analysis will be carried out to pick the best algorithm for our modelling."
   ]
  },
  {
   "cell_type": "code",
   "execution_count": 56,
   "id": "c628d835",
   "metadata": {},
   "outputs": [
    {
     "name": "stdout",
     "output_type": "stream",
     "text": [
      "Mean_score: 0.4293662009268505\n",
      "Mean_score: 0.242652550569685\n",
      "Mean_score: 0.46211342984615456\n"
     ]
    }
   ],
   "source": [
    "# Employing crossvalidation, \n",
    "cv1=KFold(n_splits=5, random_state=41, shuffle=True)\n",
    "for m in model:\n",
    "    val_score=cross_val_score(m, x_fet, y, cv=cv1)\n",
    "    print(f'Mean_score: {np.mean(val_score)}')"
   ]
  },
  {
   "cell_type": "markdown",
   "id": "7c0a0fb8",
   "metadata": {},
   "source": [
    "The cross_validation test conducted on the three algorithms shows that RANDOMFORESTREGRESSOR performs better in this scenerio."
   ]
  },
  {
   "cell_type": "code",
   "execution_count": 59,
   "id": "39b455a4",
   "metadata": {},
   "outputs": [],
   "source": [
    "prediction=rfr.predict(tt.drop('id', axis=1))"
   ]
  },
  {
   "cell_type": "code",
   "execution_count": 60,
   "id": "f0b529c6",
   "metadata": {},
   "outputs": [
    {
     "data": {
      "text/plain": [
       "array([2.59 , 2.578, 5.982, ..., 4.969, 4.353, 2.983])"
      ]
     },
     "execution_count": 60,
     "metadata": {},
     "output_type": "execute_result"
    }
   ],
   "source": [
    "prediction"
   ]
  },
  {
   "cell_type": "code",
   "execution_count": 69,
   "id": "12b76245",
   "metadata": {},
   "outputs": [
    {
     "data": {
      "text/plain": [
       "Index(['allelectrons_Total', 'density_Total', 'allelectrons_Average',\n",
       "       'val_e_Average', 'atomicweight_Average', 'ionenergy_Average',\n",
       "       'el_neg_chi_Average', 'R_vdw_element_Average', 'R_cov_element_Average',\n",
       "       'zaratio_Average', 'density_Average'],\n",
       "      dtype='object')"
      ]
     },
     "execution_count": 69,
     "metadata": {},
     "output_type": "execute_result"
    }
   ],
   "source": [
    "x_fet.columns "
   ]
  },
  {
   "cell_type": "code",
   "execution_count": 80,
   "id": "12f6c1e0",
   "metadata": {},
   "outputs": [
    {
     "data": {
      "image/png": "[encoded data removed]",
      "text/plain": [
       "<Figure size 720x432 with 1 Axes>"
      ]
     },
     "metadata": {
      "needs_background": "light"
     },
     "output_type": "display_data"
    }
   ],
   "source": [
    "# Lets visualize important features in this model\n",
    "plt.figure(figsize=(10,6))\n",
    "\n",
    "feature_importance = rfr.feature_importances_\n",
    "feature_names = x_fet.columns  # Replace with your actual feature names\n",
    "sort_idx=feature_importance.argsort() # Sorting the features\n",
    "\n",
    "plt.barh(range(len(feature_names)), feature_importance[sort_idx], color='g')\n",
    "plt.yticks(range(len(feature_names)), feature_names[sort_idx])\n",
    "\n",
    "\n",
    "plt.xlabel('feature_importance')\n",
    "plt.ylabel('Features')\n",
    "plt.title('RandomForestRegrressor-Feature_Importance')\n",
    "plt.show()\n"
   ]
  },
  {
   "cell_type": "markdown",
   "id": "13a76426",
   "metadata": {},
   "source": [
    "This shows that 'zaratio_average' has highest influence on the performance of the selected algorithm."
   ]
  },
  {
   "cell_type": "markdown",
   "id": "05716eb6",
   "metadata": {},
   "source": [
    "### Summary\n",
    "After checking important features of the dataset and assurance of noiseless status of the dataset, the modeling was incepted with KFold cross_validation to assess the performance of the selected algorithm.\n",
    "In this context, I subjected three different regression algorithms into assessment xgboost, linearregression and randomforest. \n",
    "\n",
    "Importance features, the important of the features were also visualized to recognize the contributions of each of the encapsulated feature which are sorted based on their level of contribution to the model accuracy."
   ]
  },
  {
   "cell_type": "code",
   "execution_count": null,
   "id": "bdfb4e79",
   "metadata": {},
   "outputs": [],
   "source": []
  }
 ],
 "metadata": {
  "kernelspec": {
   "display_name": "Python 3 (ipykernel)",
   "language": "python",
   "name": "python3"
  },
  "language_info": {
   "codemirror_mode": {
    "name": "ipython",
    "version": 3
   },
   "file_extension": ".py",
   "mimetype": "text/x-python",
   "name": "python",
   "nbconvert_exporter": "python",
   "pygments_lexer": "ipython3",
   "version": "3.9.12"
  }
 },
 "nbformat": 4,
 "nbformat_minor": 5
}
